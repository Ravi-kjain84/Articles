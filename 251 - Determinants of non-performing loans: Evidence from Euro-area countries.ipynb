{
  "nbformat": 4,
  "nbformat_minor": 0,
  "metadata": {
    "colab": {
      "provenance": [],
      "authorship_tag": "ABX9TyNsUI5yiIhKEnfOUACZs7b8",
      "include_colab_link": true
    },
    "kernelspec": {
      "name": "python3",
      "display_name": "Python 3"
    },
    "language_info": {
      "name": "python"
    }
  },
  "cells": [
    {
      "cell_type": "markdown",
      "metadata": {
        "id": "view-in-github",
        "colab_type": "text"
      },
      "source": [
        "<a href=\"https://colab.research.google.com/github/Ravi-kjain84/Articles/blob/main/251%20-%20Determinants%20of%20non-performing%20loans%3A%20Evidence%20from%20Euro-area%20countries.ipynb\" target=\"_parent\"><img src=\"https://colab.research.google.com/assets/colab-badge.svg\" alt=\"Open In Colab\"/></a>"
      ]
    },
    {
      "cell_type": "code",
      "source": [
        "import pandas as pd\n",
        "import statsmodels.api as sm\n",
        "from statsmodels.sandbox.regression.gmm import IV2SLS\n",
        "from statsmodels.stats.outliers_influence import variance_inflation_factor\n",
        "\n",
        "# Load the data from the Excel file\n",
        "file_path = '/content/NPL_research_template.xlsx'  # Replace with your file path\n",
        "data = pd.read_excel(file_path, sheet_name=\"main\")\n",
        "data.fillna(0, inplace=True)\n",
        "\n",
        "# Lagged variables\n",
        "data['NPL_lagged'] = data['NPL'].shift(1)\n",
        "data['ROA_lagged'] = data['ROA'].shift(1)\n",
        "data['ROE_lagged'] = data['ROE'].shift(1)\n",
        "data['LTD_lagged'] = data['LTD'].shift(1)\n",
        "data['UNEMP_lagged'] = data['UNEMP'].shift(1)\n",
        "data['TAXINC_lagged'] = data['TAXINC'].shift(1)\n",
        "data['FISCAL_lagged'] = data['FISCAL'].shift(1)\n",
        "data['DEBT_lagged'] = data['DEBT'].shift(1)\n",
        "data['GROWTH_lagged'] = data['GROWTH'].shift(1)\n",
        "data['INFLRAT_lagged'] = data['INFLRAT'].shift(1)\n",
        "data['OUTPUT_GAP_lagged'] = data['OUTPUT_GAP'].shift(1)\n",
        "\n",
        "# Dropping NA values\n",
        "data.dropna(inplace=True)\n",
        "\n",
        "# Dependent variable\n",
        "Y = data['NPL']\n",
        "\n",
        "# Independent variables\n",
        "X = data[['ROA', 'ROE', 'LTD', 'UNEMP', 'DEBT', 'GROWTH', 'INFLRAT',\n",
        "          'ROA_lagged', 'ROE_lagged', 'LTD_lagged', 'UNEMP_lagged',\n",
        "          'DEBT_lagged', 'GROWTH_lagged', 'INFLRAT_lagged']]\n",
        "\n",
        "# Adding a constant to the independent variables\n",
        "X = sm.add_constant(X)\n",
        "\n",
        "# Check for multicollinearity using VIF\n",
        "vif_data = pd.DataFrame()\n",
        "vif_data['Feature'] = X.columns\n",
        "vif_data['VIF'] = [variance_inflation_factor(X.values, i) for i in range(len(X.columns))]\n",
        "\n",
        "print(vif_data)\n",
        "\n",
        "# Remove variables with high VIF (> 5)\n",
        "high_vif_features = vif_data[vif_data['VIF'] > 5]['Feature']\n",
        "X = X.drop(columns=high_vif_features)\n",
        "\n",
        "# Instrumental variables (for GMM estimation)\n",
        "instruments = X.copy()\n",
        "instruments['NPL_lagged'] = data['NPL_lagged']\n",
        "\n",
        "# Performing the GMM estimation\n",
        "model = IV2SLS(Y, X, instruments).fit()\n",
        "\n",
        "# Printing the summary of the results\n",
        "print(model.summary())\n"
      ],
      "metadata": {
        "colab": {
          "base_uri": "https://localhost:8080/"
        },
        "id": "58Ed0_RgbzLZ",
        "outputId": "cf5ebe42-abc7-4b13-8c3e-dbda8d619641"
      },
      "execution_count": 14,
      "outputs": [
        {
          "output_type": "stream",
          "name": "stdout",
          "text": [
            "           Feature        VIF\n",
            "0            const   9.686714\n",
            "1              ROA   4.526241\n",
            "2              ROE   4.087759\n",
            "3              LTD   1.005257\n",
            "4            UNEMP  38.275020\n",
            "5             DEBT  10.578660\n",
            "6           GROWTH   5.753046\n",
            "7          INFLRAT   2.853993\n",
            "8       ROA_lagged   4.533048\n",
            "9       ROE_lagged   4.107344\n",
            "10      LTD_lagged   1.061986\n",
            "11    UNEMP_lagged  38.182136\n",
            "12     DEBT_lagged  10.686944\n",
            "13   GROWTH_lagged   5.694981\n",
            "14  INFLRAT_lagged   2.865687\n",
            "                          IV2SLS Regression Results                           \n",
            "==============================================================================\n",
            "Dep. Variable:                    NPL   R-squared:                       0.064\n",
            "Model:                         IV2SLS   Adj. R-squared:                  0.062\n",
            "Method:                     Two Stage   F-statistic:                       nan\n",
            "                        Least Squares   Prob (F-statistic):                nan\n",
            "Date:                Sat, 18 May 2024                                         \n",
            "Time:                        16:05:20                                         \n",
            "No. Observations:                3639                                         \n",
            "Df Residuals:                    3631                                         \n",
            "Df Model:                           8                                         \n",
            "==================================================================================\n",
            "                     coef    std err          t      P>|t|      [0.025      0.975]\n",
            "----------------------------------------------------------------------------------\n",
            "ROA                0.6438      0.173      3.715      0.000       0.304       0.984\n",
            "ROE                0.0018      0.010      0.186      0.852      -0.017       0.021\n",
            "LTD                0.0344      0.006      5.560      0.000       0.022       0.047\n",
            "INFLRAT            0.0002      0.001      0.173      0.862      -0.002       0.003\n",
            "ROA_lagged         0.3510      0.173      2.023      0.043       0.011       0.691\n",
            "ROE_lagged         0.0141      0.010      1.467      0.142      -0.005       0.033\n",
            "LTD_lagged         0.0077      0.006      1.242      0.214      -0.004       0.020\n",
            "INFLRAT_lagged     0.0003      0.001      0.270      0.787      -0.002       0.003\n",
            "==============================================================================\n",
            "Omnibus:                     2462.344   Durbin-Watson:                   0.373\n",
            "Prob(Omnibus):                  0.000   Jarque-Bera (JB):            29981.958\n",
            "Skew:                           3.163   Prob(JB):                         0.00\n",
            "Kurtosis:                      15.559   Cond. No.                         411.\n",
            "==============================================================================\n"
          ]
        }
      ]
    }
  ]
}